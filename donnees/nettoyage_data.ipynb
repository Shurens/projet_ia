{
 "cells": [
  {
   "cell_type": "code",
   "execution_count": 4,
   "metadata": {},
   "outputs": [],
   "source": [
    "import pandas as pd\n",
    "import seaborn as sns\n",
    "import matplotlib.pyplot as plt"
   ]
  },
  {
   "cell_type": "code",
   "execution_count": 7,
   "metadata": {},
   "outputs": [
    {
     "name": "stdout",
     "output_type": "stream",
     "text": [
      "                             original_title     budget     revenue  runtime  \\\n",
      "0                                    Avatar  237000000  2787965087      162   \n",
      "1  Pirates of the Caribbean: At World's End  300000000   961000000      169   \n",
      "2                                   Spectre  245000000   880674609      148   \n",
      "3                     The Dark Knight Rises  250000000  1084939099      165   \n",
      "4                               John Carter  260000000   284139100      132   \n",
      "\n",
      "   vote_count evaluation  \n",
      "0       11800      moyen  \n",
      "1        4500      moyen  \n",
      "2        4466      moyen  \n",
      "3        9106       bien  \n",
      "4        2124      moyen  \n"
     ]
    }
   ],
   "source": [
    "try:\n",
    "    # Lecture du csv\n",
    "    df = pd.read_csv('combined_data.csv')\n",
    "    # affichage pour vérification\n",
    "    print(df.head())\n",
    "except FileNotFoundError:\n",
    "    print(\"Le fichier CSV n'a pas été trouvé.\")\n",
    "except pd.errors.EmptyDataError:\n",
    "    print(\"Le fichier CSV est vide.\")\n",
    "except pd.errors.ParserError:\n",
    "    print(\"Erreur lors de l'analyse du fichier CSV.\")\n",
    "except Exception as e:\n",
    "    print(f\"Une erreur s'est produite : {e}\")"
   ]
  },
  {
   "cell_type": "code",
   "execution_count": 10,
   "metadata": {},
   "outputs": [
    {
     "name": "stdout",
     "output_type": "stream",
     "text": [
      "\n",
      "Total de données manquantes (NaN) et de zéros par colonne :\n",
      "budget        1005\n",
      "revenue       1392\n",
      "vote_count      49\n",
      "dtype: int64\n"
     ]
    }
   ],
   "source": [
    "# Calculer le nombre de valeurs manquantes (NaN)\n",
    "missing_data = df.isnull().sum()\n",
    "\n",
    "# Calculer le nombre de zéros dans chaque colonne\n",
    "zero_data = (df == 0).sum()\n",
    "\n",
    "# Combiner les résultats\n",
    "combined_data = missing_data + zero_data\n",
    "\n",
    "# Affichage du total des données manquantes et des zéros par colonne\n",
    "print(\"\\nTotal de données manquantes (NaN) et de zéros par colonne :\")\n",
    "print(combined_data[combined_data > 0])  # Afficher uniquement les colonnes avec des valeurs manquantes ou des zéros\n"
   ]
  },
  {
   "cell_type": "code",
   "execution_count": 15,
   "metadata": {},
   "outputs": [],
   "source": [
    "# Suppression des lignes contenant des zéros dans n'importe quelle colonne\n",
    "df = df[(df != 0).all(axis=1)]"
   ]
  },
  {
   "cell_type": "code",
   "execution_count": 17,
   "metadata": {},
   "outputs": [
    {
     "name": "stdout",
     "output_type": "stream",
     "text": [
      "evaluation\n",
      "moyen       2842\n",
      "bien         217\n",
      "mediocre     190\n",
      "Name: count, dtype: int64\n"
     ]
    }
   ],
   "source": [
    "# Compter les occurrences de chaque valeur dans la colonne 'evaluation'\n",
    "evaluation_counts = df['evaluation'].value_counts()\n",
    "\n",
    "# Afficher le résultat\n",
    "print(evaluation_counts)\n"
   ]
  },
  {
   "cell_type": "code",
   "execution_count": 19,
   "metadata": {},
   "outputs": [
    {
     "name": "stdout",
     "output_type": "stream",
     "text": [
      "evaluation\n",
      "bien        190\n",
      "moyen       190\n",
      "mediocre    190\n",
      "Name: count, dtype: int64\n"
     ]
    }
   ],
   "source": [
    "import pandas as pd\n",
    "\n",
    "# Supposons que df est votre DataFrame initial\n",
    "# Compter le nombre de lignes pour chaque valeur de 'evaluation'\n",
    "counts = df['evaluation'].value_counts()\n",
    "\n",
    "# Nombre de lignes de la catégorie 'mediocre'\n",
    "num_mediocre = counts['mediocre']\n",
    "\n",
    "# Calculer le nombre de lignes à supprimer pour 'bien' et 'moyen'\n",
    "to_remove_bien = counts['bien'] - num_mediocre\n",
    "to_remove_moyen = counts['moyen'] - num_mediocre\n",
    "\n",
    "# Créer une liste pour stocker les DataFrames à concaténer\n",
    "frames = []\n",
    "\n",
    "# Supprimer les lignes de 'bien' si nécessaire\n",
    "if to_remove_bien > 0:\n",
    "    bien_to_keep = df[df['evaluation'] == 'bien'].sample(n=num_mediocre, random_state=1)\n",
    "    frames.append(bien_to_keep)\n",
    "\n",
    "# Supprimer les lignes de 'moyen' si nécessaire\n",
    "if to_remove_moyen > 0:\n",
    "    moyen_to_keep = df[df['evaluation'] == 'moyen'].sample(n=num_mediocre, random_state=1)\n",
    "    frames.append(moyen_to_keep)\n",
    "\n",
    "# Ajouter toutes les lignes de 'médiocre'\n",
    "mediocre = df[df['evaluation'] == 'mediocre']\n",
    "frames.append(mediocre)\n",
    "\n",
    "# Concaténer les DataFrames\n",
    "df = pd.concat(frames)\n",
    "\n",
    "# Réinitialiser l'index si besoin\n",
    "df.reset_index(drop=True, inplace=True)\n",
    "\n",
    "# Afficher le résultat final\n",
    "print(df['evaluation'].value_counts())\n"
   ]
  },
  {
   "cell_type": "code",
   "execution_count": 20,
   "metadata": {},
   "outputs": [],
   "source": [
    "df.to_csv('cleaned_data.csv', index=False)"
   ]
  }
 ],
 "metadata": {
  "kernelspec": {
   "display_name": ".venv",
   "language": "python",
   "name": "python3"
  },
  "language_info": {
   "codemirror_mode": {
    "name": "ipython",
    "version": 3
   },
   "file_extension": ".py",
   "mimetype": "text/x-python",
   "name": "python",
   "nbconvert_exporter": "python",
   "pygments_lexer": "ipython3",
   "version": "3.10.8"
  }
 },
 "nbformat": 4,
 "nbformat_minor": 2
}
