{
 "cells": [
  {
   "cell_type": "markdown",
   "metadata": {},
   "source": [
    "Notebook de récolte des data de 5 sources différentes : CSV, scrapping, base de données mySQL, base de donnée Mongo, API ainsi que le traitement de celles-ci pour les combiner"
   ]
  },
  {
   "cell_type": "markdown",
   "metadata": {},
   "source": [
    "La note d'un film avec une note moyenne supérieure à 7.5 sera converti en 'bien', moins de 5 en 'mediocre', entre les 2 'moyen'"
   ]
  },
  {
   "cell_type": "markdown",
   "metadata": {},
   "source": [
    "Initialisation des dépendances et connections"
   ]
  },
  {
   "cell_type": "code",
   "execution_count": 9,
   "metadata": {},
   "outputs": [
    {
     "data": {
      "text/plain": [
       "True"
      ]
     },
     "execution_count": 9,
     "metadata": {},
     "output_type": "execute_result"
    }
   ],
   "source": [
    "import pandas as pd\n",
    "import requests\n",
    "import os\n",
    "import time\n",
    "from selenium import webdriver\n",
    "from selenium.webdriver.common.by import By\n",
    "from selenium.webdriver.chrome.service import Service\n",
    "from webdriver_manager.chrome import ChromeDriverManager\n",
    "from selenium.webdriver.support.ui import WebDriverWait\n",
    "from selenium.webdriver.support import expected_conditions as EC\n",
    "from mysql_data import Data_mysql\n",
    "from mongo_data import Data_mongo\n",
    "from dotenv import load_dotenv\n",
    "env_path = './bdd/.env'\n",
    "load_dotenv(env_path)"
   ]
  },
  {
   "cell_type": "markdown",
   "metadata": {},
   "source": [
    "**Récolte de data par csv**\n"
   ]
  },
  {
   "cell_type": "code",
   "execution_count": 39,
   "metadata": {},
   "outputs": [
    {
     "name": "stdout",
     "output_type": "stream",
     "text": [
      "      budget                                             genres  \\\n",
      "0  237000000  [{\"id\": 28, \"name\": \"Action\"}, {\"id\": 12, \"nam...   \n",
      "1  300000000  [{\"id\": 12, \"name\": \"Adventure\"}, {\"id\": 14, \"...   \n",
      "2  245000000  [{\"id\": 28, \"name\": \"Action\"}, {\"id\": 12, \"nam...   \n",
      "3  250000000  [{\"id\": 28, \"name\": \"Action\"}, {\"id\": 80, \"nam...   \n",
      "4  260000000  [{\"id\": 28, \"name\": \"Action\"}, {\"id\": 12, \"nam...   \n",
      "\n",
      "                                       homepage      id  \\\n",
      "0                   http://www.avatarmovie.com/   19995   \n",
      "1  http://disney.go.com/disneypictures/pirates/     285   \n",
      "2   http://www.sonypictures.com/movies/spectre/  206647   \n",
      "3            http://www.thedarkknightrises.com/   49026   \n",
      "4          http://movies.disney.com/john-carter   49529   \n",
      "\n",
      "                                            keywords original_language  \\\n",
      "0  [{\"id\": 1463, \"name\": \"culture clash\"}, {\"id\":...                en   \n",
      "1  [{\"id\": 270, \"name\": \"ocean\"}, {\"id\": 726, \"na...                en   \n",
      "2  [{\"id\": 470, \"name\": \"spy\"}, {\"id\": 818, \"name...                en   \n",
      "3  [{\"id\": 849, \"name\": \"dc comics\"}, {\"id\": 853,...                en   \n",
      "4  [{\"id\": 818, \"name\": \"based on novel\"}, {\"id\":...                en   \n",
      "\n",
      "                             original_title  \\\n",
      "0                                    Avatar   \n",
      "1  Pirates of the Caribbean: At World's End   \n",
      "2                                   Spectre   \n",
      "3                     The Dark Knight Rises   \n",
      "4                               John Carter   \n",
      "\n",
      "                                            overview  popularity  \\\n",
      "0  In the 22nd century, a paraplegic Marine is di...  150.437577   \n",
      "1  Captain Barbossa, long believed to be dead, ha...  139.082615   \n",
      "2  A cryptic message from Bond’s past sends him o...  107.376788   \n",
      "3  Following the death of District Attorney Harve...  112.312950   \n",
      "4  John Carter is a war-weary, former military ca...   43.926995   \n",
      "\n",
      "                                production_companies  \\\n",
      "0  [{\"name\": \"Ingenious Film Partners\", \"id\": 289...   \n",
      "1  [{\"name\": \"Walt Disney Pictures\", \"id\": 2}, {\"...   \n",
      "2  [{\"name\": \"Columbia Pictures\", \"id\": 5}, {\"nam...   \n",
      "3  [{\"name\": \"Legendary Pictures\", \"id\": 923}, {\"...   \n",
      "4        [{\"name\": \"Walt Disney Pictures\", \"id\": 2}]   \n",
      "\n",
      "                                production_countries release_date     revenue  \\\n",
      "0  [{\"iso_3166_1\": \"US\", \"name\": \"United States o...   2009-12-10  2787965087   \n",
      "1  [{\"iso_3166_1\": \"US\", \"name\": \"United States o...   2007-05-19   961000000   \n",
      "2  [{\"iso_3166_1\": \"GB\", \"name\": \"United Kingdom\"...   2015-10-26   880674609   \n",
      "3  [{\"iso_3166_1\": \"US\", \"name\": \"United States o...   2012-07-16  1084939099   \n",
      "4  [{\"iso_3166_1\": \"US\", \"name\": \"United States o...   2012-03-07   284139100   \n",
      "\n",
      "   runtime                                   spoken_languages    status  \\\n",
      "0    162.0  [{\"iso_639_1\": \"en\", \"name\": \"English\"}, {\"iso...  Released   \n",
      "1    169.0           [{\"iso_639_1\": \"en\", \"name\": \"English\"}]  Released   \n",
      "2    148.0  [{\"iso_639_1\": \"fr\", \"name\": \"Fran\\u00e7ais\"},...  Released   \n",
      "3    165.0           [{\"iso_639_1\": \"en\", \"name\": \"English\"}]  Released   \n",
      "4    132.0           [{\"iso_639_1\": \"en\", \"name\": \"English\"}]  Released   \n",
      "\n",
      "                                          tagline  \\\n",
      "0                     Enter the World of Pandora.   \n",
      "1  At the end of the world, the adventure begins.   \n",
      "2                           A Plan No One Escapes   \n",
      "3                                 The Legend Ends   \n",
      "4            Lost in our world, found in another.   \n",
      "\n",
      "                                      title  vote_average  vote_count  \n",
      "0                                    Avatar           7.2       11800  \n",
      "1  Pirates of the Caribbean: At World's End           6.9        4500  \n",
      "2                                   Spectre           6.3        4466  \n",
      "3                     The Dark Knight Rises           7.6        9106  \n",
      "4                               John Carter           6.1        2124  \n"
     ]
    }
   ],
   "source": [
    "try:\n",
    "    # Lecture du csv\n",
    "    df_csv = pd.read_csv('tmdb_5000_movies.csv')\n",
    "    # affichage pour vérification\n",
    "    print(df_csv.head())\n",
    "except FileNotFoundError:\n",
    "    print(\"Le fichier CSV n'a pas été trouvé.\")\n",
    "except pd.errors.EmptyDataError:\n",
    "    print(\"Le fichier CSV est vide.\")\n",
    "except pd.errors.ParserError:\n",
    "    print(\"Erreur lors de l'analyse du fichier CSV.\")\n",
    "except Exception as e:\n",
    "    print(f\"Une erreur s'est produite : {e}\")"
   ]
  },
  {
   "cell_type": "code",
   "execution_count": 40,
   "metadata": {},
   "outputs": [
    {
     "name": "stdout",
     "output_type": "stream",
     "text": [
      "                 original_title  budget  revenue runtime  vote_count  \\\n",
      "4798                El Mariachi  220000  2040920      81         238   \n",
      "4799                  Newlyweds    9000        0      85           5   \n",
      "4800  Signed, Sealed, Delivered       0        0     120           6   \n",
      "4801           Shanghai Calling       0        0      98           7   \n",
      "4802          My Date with Drew       0        0      90          16   \n",
      "\n",
      "     evaluation  \n",
      "4798        6.6  \n",
      "4799        5.9  \n",
      "4800        7.0  \n",
      "4801        5.7  \n",
      "4802        6.3  \n"
     ]
    }
   ],
   "source": [
    "# Création d'une copie du Dataframe (pour ne pas modifier l'original) avec les colonnes que l'on veut\n",
    "df_csv_copy = df_csv[['original_title', 'budget', 'revenue', 'runtime', 'vote_count']].copy()\n",
    "\n",
    "# convertion de 'vote_average' en chaîne de caractères et création de la colonne 'evaluation'\n",
    "df_csv_copy['evaluation'] = df_csv['vote_average'].astype(str)\n",
    "\n",
    "# Supprime les lignes où 'runtime' est 0 ou NaN\n",
    "df_csv_copy = df_csv_copy[df_csv_copy['runtime'].notna() & (df_csv_copy['runtime'] != 0)]\n",
    "\n",
    "# Convertion de 'runtime' en chaîne de caractères, puis supprime tout ce qui suit le point décimal\n",
    "df_csv_copy['runtime'] = df_csv_copy['runtime'].astype(str).str.split('.').str[0]\n",
    "\n",
    "print(df_csv_copy.tail())\n"
   ]
  },
  {
   "cell_type": "code",
   "execution_count": 42,
   "metadata": {},
   "outputs": [],
   "source": [
    "# Convertion de 'evaluation' en numérique (float)\n",
    "df_csv_copy['evaluation'] = pd.to_numeric(df_csv_copy['evaluation'], errors='coerce')\n",
    "\n",
    "# Appliquer les conditions pour la colonne 'evaluation'\n",
    "df_csv_copy['evaluation'] = df_csv_copy['evaluation'].apply(\n",
    "    lambda x: 'bien' if x > 7.5 else 'mediocre' if x < 5 else 'moyen'\n",
    ")"
   ]
  },
  {
   "cell_type": "code",
   "execution_count": 43,
   "metadata": {},
   "outputs": [
    {
     "data": {
      "text/html": [
       "<div>\n",
       "<style scoped>\n",
       "    .dataframe tbody tr th:only-of-type {\n",
       "        vertical-align: middle;\n",
       "    }\n",
       "\n",
       "    .dataframe tbody tr th {\n",
       "        vertical-align: top;\n",
       "    }\n",
       "\n",
       "    .dataframe thead th {\n",
       "        text-align: right;\n",
       "    }\n",
       "</style>\n",
       "<table border=\"1\" class=\"dataframe\">\n",
       "  <thead>\n",
       "    <tr style=\"text-align: right;\">\n",
       "      <th></th>\n",
       "      <th>original_title</th>\n",
       "      <th>budget</th>\n",
       "      <th>revenue</th>\n",
       "      <th>runtime</th>\n",
       "      <th>vote_count</th>\n",
       "      <th>evaluation</th>\n",
       "    </tr>\n",
       "  </thead>\n",
       "  <tbody>\n",
       "    <tr>\n",
       "      <th>0</th>\n",
       "      <td>Avatar</td>\n",
       "      <td>237000000</td>\n",
       "      <td>2787965087</td>\n",
       "      <td>162</td>\n",
       "      <td>11800</td>\n",
       "      <td>moyen</td>\n",
       "    </tr>\n",
       "    <tr>\n",
       "      <th>1</th>\n",
       "      <td>Pirates of the Caribbean: At World's End</td>\n",
       "      <td>300000000</td>\n",
       "      <td>961000000</td>\n",
       "      <td>169</td>\n",
       "      <td>4500</td>\n",
       "      <td>moyen</td>\n",
       "    </tr>\n",
       "    <tr>\n",
       "      <th>2</th>\n",
       "      <td>Spectre</td>\n",
       "      <td>245000000</td>\n",
       "      <td>880674609</td>\n",
       "      <td>148</td>\n",
       "      <td>4466</td>\n",
       "      <td>moyen</td>\n",
       "    </tr>\n",
       "    <tr>\n",
       "      <th>3</th>\n",
       "      <td>The Dark Knight Rises</td>\n",
       "      <td>250000000</td>\n",
       "      <td>1084939099</td>\n",
       "      <td>165</td>\n",
       "      <td>9106</td>\n",
       "      <td>bien</td>\n",
       "    </tr>\n",
       "    <tr>\n",
       "      <th>4</th>\n",
       "      <td>John Carter</td>\n",
       "      <td>260000000</td>\n",
       "      <td>284139100</td>\n",
       "      <td>132</td>\n",
       "      <td>2124</td>\n",
       "      <td>moyen</td>\n",
       "    </tr>\n",
       "  </tbody>\n",
       "</table>\n",
       "</div>"
      ],
      "text/plain": [
       "                             original_title     budget     revenue runtime  \\\n",
       "0                                    Avatar  237000000  2787965087     162   \n",
       "1  Pirates of the Caribbean: At World's End  300000000   961000000     169   \n",
       "2                                   Spectre  245000000   880674609     148   \n",
       "3                     The Dark Knight Rises  250000000  1084939099     165   \n",
       "4                               John Carter  260000000   284139100     132   \n",
       "\n",
       "   vote_count evaluation  \n",
       "0       11800      moyen  \n",
       "1        4500      moyen  \n",
       "2        4466      moyen  \n",
       "3        9106       bien  \n",
       "4        2124      moyen  "
      ]
     },
     "execution_count": 43,
     "metadata": {},
     "output_type": "execute_result"
    }
   ],
   "source": [
    "df_csv_copy.head()"
   ]
  },
  {
   "cell_type": "markdown",
   "metadata": {},
   "source": [
    "**Récolte de data par bdd mySQL**"
   ]
  },
  {
   "cell_type": "code",
   "execution_count": null,
   "metadata": {
    "vscode": {
     "languageId": "r"
    }
   },
   "outputs": [
    {
     "name": "stdout",
     "output_type": "stream",
     "text": [
      "   id                            original_title     budget     revenue  \\\n",
      "0   1                                    Avatar  237000000  2787965087   \n",
      "1   2  Pirates of the Caribbean: At World's End  300000000   961000000   \n",
      "2   3                                   Spectre  245000000   880674609   \n",
      "3   4                     The Dark Knight Rises  250000000  1084939099   \n",
      "4   5                               John Carter  260000000   284139100   \n",
      "\n",
      "   runtime  vote_count evaluation  \n",
      "0      162       11800      moyen  \n",
      "1      169        4500      moyen  \n",
      "2      148        4466      moyen  \n",
      "3      165        9106       bien  \n",
      "4      132        2124      moyen  \n"
     ]
    }
   ],
   "source": [
    "try:\n",
    "    data_instance_mysql = Data_mysql()\n",
    "\n",
    "    # Appelle la méthode get_films_data_mysql via l'instance\n",
    "    films_data_mysql = data_instance_mysql.get_films_data_mysql()\n",
    "\n",
    "    df_mysql = pd.DataFrame(films_data_mysql)\n",
    "\n",
    "    df_mysql.head()\n",
    "except Exception as e:\n",
    "    print(f\"Une erreur s'est produite : {e}\")"
   ]
  },
  {
   "cell_type": "code",
   "execution_count": 60,
   "metadata": {},
   "outputs": [
    {
     "data": {
      "text/html": [
       "<div>\n",
       "<style scoped>\n",
       "    .dataframe tbody tr th:only-of-type {\n",
       "        vertical-align: middle;\n",
       "    }\n",
       "\n",
       "    .dataframe tbody tr th {\n",
       "        vertical-align: top;\n",
       "    }\n",
       "\n",
       "    .dataframe thead th {\n",
       "        text-align: right;\n",
       "    }\n",
       "</style>\n",
       "<table border=\"1\" class=\"dataframe\">\n",
       "  <thead>\n",
       "    <tr style=\"text-align: right;\">\n",
       "      <th></th>\n",
       "      <th>original_title</th>\n",
       "      <th>budget</th>\n",
       "      <th>revenue</th>\n",
       "      <th>runtime</th>\n",
       "      <th>vote_count</th>\n",
       "      <th>evaluation</th>\n",
       "    </tr>\n",
       "  </thead>\n",
       "  <tbody>\n",
       "    <tr>\n",
       "      <th>0</th>\n",
       "      <td>Avatar</td>\n",
       "      <td>237000000</td>\n",
       "      <td>2787965087</td>\n",
       "      <td>162</td>\n",
       "      <td>11800</td>\n",
       "      <td>moyen</td>\n",
       "    </tr>\n",
       "    <tr>\n",
       "      <th>1</th>\n",
       "      <td>Pirates of the Caribbean: At World's End</td>\n",
       "      <td>300000000</td>\n",
       "      <td>961000000</td>\n",
       "      <td>169</td>\n",
       "      <td>4500</td>\n",
       "      <td>moyen</td>\n",
       "    </tr>\n",
       "    <tr>\n",
       "      <th>2</th>\n",
       "      <td>Spectre</td>\n",
       "      <td>245000000</td>\n",
       "      <td>880674609</td>\n",
       "      <td>148</td>\n",
       "      <td>4466</td>\n",
       "      <td>moyen</td>\n",
       "    </tr>\n",
       "    <tr>\n",
       "      <th>3</th>\n",
       "      <td>The Dark Knight Rises</td>\n",
       "      <td>250000000</td>\n",
       "      <td>1084939099</td>\n",
       "      <td>165</td>\n",
       "      <td>9106</td>\n",
       "      <td>bien</td>\n",
       "    </tr>\n",
       "    <tr>\n",
       "      <th>4</th>\n",
       "      <td>John Carter</td>\n",
       "      <td>260000000</td>\n",
       "      <td>284139100</td>\n",
       "      <td>132</td>\n",
       "      <td>2124</td>\n",
       "      <td>moyen</td>\n",
       "    </tr>\n",
       "  </tbody>\n",
       "</table>\n",
       "</div>"
      ],
      "text/plain": [
       "                             original_title     budget     revenue  runtime  \\\n",
       "0                                    Avatar  237000000  2787965087      162   \n",
       "1  Pirates of the Caribbean: At World's End  300000000   961000000      169   \n",
       "2                                   Spectre  245000000   880674609      148   \n",
       "3                     The Dark Knight Rises  250000000  1084939099      165   \n",
       "4                               John Carter  260000000   284139100      132   \n",
       "\n",
       "   vote_count evaluation  \n",
       "0       11800      moyen  \n",
       "1        4500      moyen  \n",
       "2        4466      moyen  \n",
       "3        9106       bien  \n",
       "4        2124      moyen  "
      ]
     },
     "execution_count": 60,
     "metadata": {},
     "output_type": "execute_result"
    }
   ],
   "source": [
    "df_mysql = df_mysql.drop('id', axis=1)\n",
    "df_mysql.head()"
   ]
  },
  {
   "cell_type": "markdown",
   "metadata": {},
   "source": [
    "**Récolte de data par bdd Mongo**"
   ]
  },
  {
   "cell_type": "code",
   "execution_count": null,
   "metadata": {},
   "outputs": [
    {
     "name": "stdout",
     "output_type": "stream",
     "text": [
      "                       original_title    budget    revenue  runtime  \\\n",
      "0                Insidious: Chapter 3  10000000  104303851       97   \n",
      "1                     The Last Dragon  10000000   25754284      108   \n",
      "2                   The Lawnmower Man  10000000   32101000      108   \n",
      "3  Nick and Norah's Infinite Playlist   9000000   32973937       89   \n",
      "4                               Dogma  10000000   30652890      130   \n",
      "\n",
      "   vote_count evaluation  \n",
      "0         983      moyen  \n",
      "1          69      moyen  \n",
      "2         197      moyen  \n",
      "3         379      moyen  \n",
      "4         823      moyen  \n"
     ]
    }
   ],
   "source": [
    "try:\n",
    "    data_instance_mongo = Data_mongo()\n",
    "\n",
    "    films_data_mongo = data_instance_mongo.get_films_data_mongo()  \n",
    "\n",
    "    df_mongo = pd.DataFrame(films_data_mongo)\n",
    "\n",
    "    df_mongo.head()\n",
    "except Exception as e:\n",
    "    print(f\"Une erreur s'est produite : {e}\")"
   ]
  },
  {
   "cell_type": "markdown",
   "metadata": {},
   "source": [
    "**Récolte de data par l'API de TMDB**"
   ]
  },
  {
   "cell_type": "code",
   "execution_count": null,
   "metadata": {},
   "outputs": [
    {
     "name": "stdout",
     "output_type": "stream",
     "text": [
      "         original_title     budget     revenue  runtime  vote_count  \\\n",
      "0  Deadpool & Wolverine  200000000  1317173104      128        3160   \n",
      "1              The Crow   50000000    13690814      111         424   \n",
      "2          Inside Out 2  200000000  1682636477       97        3906   \n",
      "3       It Ends with Us   25000000   334836337      131         562   \n",
      "4       Despicable Me 4  100000000   948140610       94        1767   \n",
      "\n",
      "   vote_average  \n",
      "0         7.672  \n",
      "1         5.404  \n",
      "2         7.642  \n",
      "3         6.880  \n",
      "4         7.166  \n"
     ]
    }
   ],
   "source": [
    "# URL pour récupérer les films populaires\n",
    "url_popular = \"https://api.themoviedb.org/3/movie/popular?language=en-US&page=1\"\n",
    "\n",
    "headers = {\n",
    "    \"accept\": \"application/json\",\n",
    "    \"Authorization\": os.getenv(\"API_KEY\")  \n",
    "}\n",
    "\n",
    "# Faire la requête pour récupérer les films populaires\n",
    "try:\n",
    "    response = requests.get(url_popular, headers=headers)\n",
    "    response.raise_for_status()  \n",
    "    response_data = response.json()  \n",
    "\n",
    "    # Extraire les IDs des films (limite aux 10 premiers films)\n",
    "    movie_ids = [movie['id'] for movie in response_data['results'][:10]]\n",
    "\n",
    "except requests.exceptions.RequestException as e:\n",
    "    print(f\"Erreur lors de la requête des films populaires: {e}\")\n",
    "    movie_ids = []  # Initialise une liste vide si la requête échoue\n",
    "\n",
    "# URL pour récupérer les data d'un film en fonction de son id\n",
    "url_details = \"https://api.themoviedb.org/3/movie/movie_id?language=en-US\"\n",
    "\n",
    "# Initialise une liste pour stocker les data des films\n",
    "movies_list = []\n",
    "\n",
    "# Boucle pour récupérer les data des films\n",
    "for movie_id in movie_ids:\n",
    "    try:\n",
    "        response = requests.get(url_details.replace(\"movie_id\", str(movie_id)), headers=headers)\n",
    "        response.raise_for_status()  \n",
    "        movie_data = response.json()\n",
    "        \n",
    "        movie_details = {\n",
    "            'original_title': movie_data.get('original_title', None),\n",
    "            'budget': movie_data.get('budget', None),\n",
    "            'revenue': movie_data.get('revenue', None),\n",
    "            'runtime': movie_data.get('runtime', None),\n",
    "            'vote_count': movie_data.get('vote_count', None),\n",
    "            'vote_average': movie_data.get('vote_average', None)\n",
    "        }\n",
    "\n",
    "        # Ajoute les data des films à la liste\n",
    "        movies_list.append(movie_details)\n",
    "\n",
    "    except requests.exceptions.RequestException as e:\n",
    "        print(f\"Erreur lors de la requête pour le film ID {movie_id}: {e}\")\n",
    "    except ValueError as ve:\n",
    "        print(f\"Erreur de parsing pour le film ID {movie_id}: {ve}\")\n",
    "\n",
    "# Crée un DataFrame à partir de la liste de films\n",
    "df_api = pd.DataFrame(movies_list)\n",
    "\n",
    "print(df_api.head())\n"
   ]
  },
  {
   "cell_type": "code",
   "execution_count": 51,
   "metadata": {},
   "outputs": [
    {
     "data": {
      "text/html": [
       "<div>\n",
       "<style scoped>\n",
       "    .dataframe tbody tr th:only-of-type {\n",
       "        vertical-align: middle;\n",
       "    }\n",
       "\n",
       "    .dataframe tbody tr th {\n",
       "        vertical-align: top;\n",
       "    }\n",
       "\n",
       "    .dataframe thead th {\n",
       "        text-align: right;\n",
       "    }\n",
       "</style>\n",
       "<table border=\"1\" class=\"dataframe\">\n",
       "  <thead>\n",
       "    <tr style=\"text-align: right;\">\n",
       "      <th></th>\n",
       "      <th>original_title</th>\n",
       "      <th>budget</th>\n",
       "      <th>revenue</th>\n",
       "      <th>runtime</th>\n",
       "      <th>vote_count</th>\n",
       "      <th>vote_average</th>\n",
       "      <th>evaluation</th>\n",
       "    </tr>\n",
       "  </thead>\n",
       "  <tbody>\n",
       "    <tr>\n",
       "      <th>0</th>\n",
       "      <td>Deadpool &amp; Wolverine</td>\n",
       "      <td>200000000</td>\n",
       "      <td>1317173104</td>\n",
       "      <td>128</td>\n",
       "      <td>3160</td>\n",
       "      <td>7.672</td>\n",
       "      <td>bien</td>\n",
       "    </tr>\n",
       "    <tr>\n",
       "      <th>1</th>\n",
       "      <td>The Crow</td>\n",
       "      <td>50000000</td>\n",
       "      <td>13690814</td>\n",
       "      <td>111</td>\n",
       "      <td>424</td>\n",
       "      <td>5.404</td>\n",
       "      <td>moyen</td>\n",
       "    </tr>\n",
       "    <tr>\n",
       "      <th>2</th>\n",
       "      <td>Inside Out 2</td>\n",
       "      <td>200000000</td>\n",
       "      <td>1682636477</td>\n",
       "      <td>97</td>\n",
       "      <td>3906</td>\n",
       "      <td>7.642</td>\n",
       "      <td>bien</td>\n",
       "    </tr>\n",
       "    <tr>\n",
       "      <th>3</th>\n",
       "      <td>It Ends with Us</td>\n",
       "      <td>25000000</td>\n",
       "      <td>334836337</td>\n",
       "      <td>131</td>\n",
       "      <td>562</td>\n",
       "      <td>6.880</td>\n",
       "      <td>moyen</td>\n",
       "    </tr>\n",
       "    <tr>\n",
       "      <th>4</th>\n",
       "      <td>Despicable Me 4</td>\n",
       "      <td>100000000</td>\n",
       "      <td>948140610</td>\n",
       "      <td>94</td>\n",
       "      <td>1767</td>\n",
       "      <td>7.166</td>\n",
       "      <td>moyen</td>\n",
       "    </tr>\n",
       "  </tbody>\n",
       "</table>\n",
       "</div>"
      ],
      "text/plain": [
       "         original_title     budget     revenue  runtime  vote_count  \\\n",
       "0  Deadpool & Wolverine  200000000  1317173104      128        3160   \n",
       "1              The Crow   50000000    13690814      111         424   \n",
       "2          Inside Out 2  200000000  1682636477       97        3906   \n",
       "3       It Ends with Us   25000000   334836337      131         562   \n",
       "4       Despicable Me 4  100000000   948140610       94        1767   \n",
       "\n",
       "   vote_average evaluation  \n",
       "0         7.672       bien  \n",
       "1         5.404      moyen  \n",
       "2         7.642       bien  \n",
       "3         6.880      moyen  \n",
       "4         7.166      moyen  "
      ]
     },
     "execution_count": 51,
     "metadata": {},
     "output_type": "execute_result"
    }
   ],
   "source": [
    "df_api_copy = df_api\n",
    "df_api_copy['evaluation'] = df_api['vote_average'].apply(\n",
    "    lambda x: 'bien' if x > 7.5 else ('mediocre' if x < 5 else 'moyen')\n",
    ")\n",
    "\n",
    "df_api_copy.head()"
   ]
  },
  {
   "cell_type": "code",
   "execution_count": 56,
   "metadata": {},
   "outputs": [
    {
     "data": {
      "text/html": [
       "<div>\n",
       "<style scoped>\n",
       "    .dataframe tbody tr th:only-of-type {\n",
       "        vertical-align: middle;\n",
       "    }\n",
       "\n",
       "    .dataframe tbody tr th {\n",
       "        vertical-align: top;\n",
       "    }\n",
       "\n",
       "    .dataframe thead th {\n",
       "        text-align: right;\n",
       "    }\n",
       "</style>\n",
       "<table border=\"1\" class=\"dataframe\">\n",
       "  <thead>\n",
       "    <tr style=\"text-align: right;\">\n",
       "      <th></th>\n",
       "      <th>original_title</th>\n",
       "      <th>budget</th>\n",
       "      <th>revenue</th>\n",
       "      <th>runtime</th>\n",
       "      <th>vote_count</th>\n",
       "      <th>evaluation</th>\n",
       "    </tr>\n",
       "  </thead>\n",
       "  <tbody>\n",
       "    <tr>\n",
       "      <th>0</th>\n",
       "      <td>Deadpool &amp; Wolverine</td>\n",
       "      <td>200000000</td>\n",
       "      <td>1317173104</td>\n",
       "      <td>128</td>\n",
       "      <td>3160</td>\n",
       "      <td>bien</td>\n",
       "    </tr>\n",
       "    <tr>\n",
       "      <th>1</th>\n",
       "      <td>The Crow</td>\n",
       "      <td>50000000</td>\n",
       "      <td>13690814</td>\n",
       "      <td>111</td>\n",
       "      <td>424</td>\n",
       "      <td>moyen</td>\n",
       "    </tr>\n",
       "    <tr>\n",
       "      <th>2</th>\n",
       "      <td>Inside Out 2</td>\n",
       "      <td>200000000</td>\n",
       "      <td>1682636477</td>\n",
       "      <td>97</td>\n",
       "      <td>3906</td>\n",
       "      <td>bien</td>\n",
       "    </tr>\n",
       "    <tr>\n",
       "      <th>3</th>\n",
       "      <td>It Ends with Us</td>\n",
       "      <td>25000000</td>\n",
       "      <td>334836337</td>\n",
       "      <td>131</td>\n",
       "      <td>562</td>\n",
       "      <td>moyen</td>\n",
       "    </tr>\n",
       "    <tr>\n",
       "      <th>4</th>\n",
       "      <td>Despicable Me 4</td>\n",
       "      <td>100000000</td>\n",
       "      <td>948140610</td>\n",
       "      <td>94</td>\n",
       "      <td>1767</td>\n",
       "      <td>moyen</td>\n",
       "    </tr>\n",
       "  </tbody>\n",
       "</table>\n",
       "</div>"
      ],
      "text/plain": [
       "         original_title     budget     revenue  runtime  vote_count evaluation\n",
       "0  Deadpool & Wolverine  200000000  1317173104      128        3160       bien\n",
       "1              The Crow   50000000    13690814      111         424      moyen\n",
       "2          Inside Out 2  200000000  1682636477       97        3906       bien\n",
       "3       It Ends with Us   25000000   334836337      131         562      moyen\n",
       "4       Despicable Me 4  100000000   948140610       94        1767      moyen"
      ]
     },
     "execution_count": 56,
     "metadata": {},
     "output_type": "execute_result"
    }
   ],
   "source": [
    "df_api_copy = df_api_copy.drop('vote_average', axis=1)\n",
    "df_api_copy.head()"
   ]
  },
  {
   "cell_type": "markdown",
   "metadata": {},
   "source": [
    "**Récolte de data par scrapping du site de TMDB**"
   ]
  },
  {
   "cell_type": "code",
   "execution_count": null,
   "metadata": {},
   "outputs": [
    {
     "name": "stdout",
     "output_type": "stream",
     "text": [
      "          original_title                   budget                    revenue  \\\n",
      "0             Fight Club   Budget\\n$63,000,000.00  Recette \\n$100,853,753.00   \n",
      "1              Gladiator  Budget\\n$103,000,000.00  Recette \\n$465,361,176.00   \n",
      "2  A History of Violence   Budget\\n$32,000,000.00   Recette \\n$60,740,827.00   \n",
      "\n",
      "  runtime          vote_count vote_average  \n",
      "0  2h 19m  29,148 évaluations           84  \n",
      "1  2h 35m  18,270 évaluations           82  \n",
      "2  1h 35m   3,167 évaluations           72  \n"
     ]
    }
   ],
   "source": [
    "# Configure le driver Chrome\n",
    "driver = webdriver.Chrome(service=Service(ChromeDriverManager().install()))\n",
    "\n",
    "# Liste des IDs de films à scraper\n",
    "movie_ids = [550, 98, 59]\n",
    "\n",
    "# Liste pour stocker les données de tous les films\n",
    "all_movie_data = []\n",
    "\n",
    "# Boucle à travers les IDs de films\n",
    "for movie_id in movie_ids:\n",
    "    url = f\"https://www.themoviedb.org/movie/{movie_id}\"\n",
    "    driver.get(url)\n",
    "\n",
    "    # Donne du temps à la page pour se charger\n",
    "    time.sleep(5)\n",
    "\n",
    "    # Initialise un dictionnaire pour stocker les données du film actuel\n",
    "    movie_data = {}\n",
    "\n",
    "    try:\n",
    "        # Extrat le titre\n",
    "        title = driver.find_element(By.XPATH, '//*[@id=\"original_header\"]/div[2]/section/div[1]/h2/a').text\n",
    "        movie_data['original_title'] = title.strip()\n",
    "        \n",
    "        # Extrait le budget\n",
    "        budget = driver.find_element(By.XPATH, '/html/body/div[1]/main/section/div[3]/div/div/div[2]/div/section/div[1]/div/section[1]/p[3]').text\n",
    "        movie_data['budget'] = budget.strip()\n",
    "\n",
    "        # Extrait les revenus\n",
    "        revenue = driver.find_element(By.XPATH, '/html/body/div[1]/main/section/div[3]/div/div/div[2]/div/section/div[1]/div/section[1]/p[4]').text\n",
    "        movie_data['revenue'] = revenue.strip()\n",
    "\n",
    "        # Extrait la durée\n",
    "        runtime = driver.find_element(By.XPATH, '/html/body/div[1]/main/section/div[2]/div/div/section/div[2]/section/div[1]/div/span[4]').text\n",
    "        movie_data['runtime'] = runtime.strip()\n",
    "\n",
    "        # Clique sur le bouton pour révéler le nombre de votes et la moyenne dans la modale\n",
    "        button = WebDriverWait(driver, 10).until(\n",
    "            EC.element_to_be_clickable((By.XPATH, '/html/body/div[1]/main/section/div[2]/div/div/section/div[2]/section/div[2]/div/div/div[1]/div/div[1]/div'))\n",
    "        )\n",
    "        button.click()\n",
    "        \n",
    "        # Extrait le nombre de votes et la moyenne de la modale\n",
    "        vote_count = WebDriverWait(driver, 10).until(\n",
    "            EC.visibility_of_element_located((By.CSS_SELECTOR, '#rating_details_window > div > div:nth-child(2) > div > div:nth-child(2) > h3'))\n",
    "        ).text\n",
    "        movie_data['vote_count'] = vote_count.strip()\n",
    "\n",
    "        user_score_chart = driver.find_element(By.CLASS_NAME, 'user_score_chart')\n",
    "        data_percent = user_score_chart.get_attribute('data-percent')\n",
    "        movie_data['vote_average'] = data_percent.strip()\n",
    "\n",
    "        # Ajoute les données du film actuel à la liste\n",
    "        all_movie_data.append(movie_data)\n",
    "\n",
    "    except Exception as e:\n",
    "        print(f\"Une erreur s'est produite pour l'ID de film {movie_id}: {e}\")\n",
    "\n",
    "# Ferme le driver\n",
    "driver.quit()\n",
    "\n",
    "# Crée un DataFrame à partir des données collectées des films\n",
    "df_scrapping = pd.DataFrame(all_movie_data)\n",
    "\n",
    "print(df_scrapping)\n"
   ]
  },
  {
   "cell_type": "code",
   "execution_count": null,
   "metadata": {
    "vscode": {
     "languageId": "ruby"
    }
   },
   "outputs": [
    {
     "name": "stdout",
     "output_type": "stream",
     "text": [
      "          original_title       budget      revenue runtime  \\\n",
      "0             Fight Club   6300000000  10085375300  2h 19m   \n",
      "1              Gladiator  10300000000  46536117600  2h 35m   \n",
      "2  A History of Violence   3200000000   6074082700  1h 35m   \n",
      "\n",
      "           vote_count vote_average  \n",
      "0  29,148 évaluations           84  \n",
      "1  18,270 évaluations           82  \n",
      "2   3,167 évaluations           72  \n"
     ]
    }
   ],
   "source": [
    "df_scrapping_copy = df_scrapping\n",
    "# Nettoye la colonne 'budget'\n",
    "df_scrapping_copy['budget'] = df_scrapping['budget'].str.replace('Budget\\n\\$', '', regex=True)\n",
    "df_scrapping_copy['budget'] = df_scrapping['budget'].str.replace('[.,]', '', regex=True).astype(int)\n",
    "\n",
    "# Nettoye la colonne 'revenue'\n",
    "df_scrapping_copy['revenue'] = df_scrapping['revenue'].str.replace('Recette \\n\\$', '', regex=True)\n",
    "df_scrapping_copy['revenue'] = df_scrapping['revenue'].str.replace('[.,]', '', regex=True).astype(int)\n",
    "\n",
    "print(df_scrapping)"
   ]
  },
  {
   "cell_type": "code",
   "execution_count": 20,
   "metadata": {},
   "outputs": [
    {
     "name": "stdout",
     "output_type": "stream",
     "text": [
      "          original_title       budget      revenue  runtime  \\\n",
      "0             Fight Club   6300000000  10085375300      139   \n",
      "1              Gladiator  10300000000  46536117600      155   \n",
      "2  A History of Violence   3200000000   6074082700       95   \n",
      "\n",
      "           vote_count vote_average  \n",
      "0  29,148 évaluations           84  \n",
      "1  18,270 évaluations           82  \n",
      "2   3,167 évaluations           72  \n"
     ]
    }
   ],
   "source": [
    "df_scrapping_copy = df_scrapping\n",
    "\n",
    "def convert_runtime_to_minutes(runtime_str):\n",
    "    hours = 0\n",
    "    minutes = 0\n",
    "    \n",
    "    if 'h' in runtime_str:\n",
    "        hours = int(runtime_str.split('h')[0].strip())\n",
    "    if 'm' in runtime_str:\n",
    "        minutes = int(runtime_str.split('m')[0].split()[-1].strip())\n",
    "    \n",
    "    total_minutes = hours * 60 + minutes\n",
    "    return total_minutes\n",
    "\n",
    "df_scrapping_copy['runtime'] = df_scrapping['runtime'].apply(convert_runtime_to_minutes)\n",
    "\n",
    "print(df_scrapping_copy.head())"
   ]
  },
  {
   "cell_type": "code",
   "execution_count": null,
   "metadata": {},
   "outputs": [
    {
     "name": "stdout",
     "output_type": "stream",
     "text": [
      "          original_title       budget      revenue  runtime  \\\n",
      "0             Fight Club   6300000000  10085375300      139   \n",
      "1              Gladiator  10300000000  46536117600      155   \n",
      "2  A History of Violence   3200000000   6074082700       95   \n",
      "\n",
      "           vote_count vote_average  \n",
      "0  29,148 évaluations         bien  \n",
      "1  18,270 évaluations         bien  \n",
      "2   3,167 évaluations        moyen  \n"
     ]
    }
   ],
   "source": [
    "# Convertit la colonne 'vote_average' en numérique (int)\n",
    "df_scrapping_copy['vote_average'] = pd.to_numeric(df_scrapping_copy['vote_average'])\n",
    "\n",
    "# Convertit maintenant la colonne 'vote_average' en 'bien' ou 'moyen'\n",
    "df_scrapping_copy['vote_average'] = df_scrapping_copy['vote_average'].apply(lambda x: 'bien' si x > 75 else 'moyen')\n",
    "\n",
    "# Affiche le DataFrame mis à jour\n",
    "print(df_scrapping_copy)\n"
   ]
  },
  {
   "cell_type": "code",
   "execution_count": null,
   "metadata": {},
   "outputs": [
    {
     "name": "stdout",
     "output_type": "stream",
     "text": [
      "          original_title       budget      revenue  runtime vote_count  \\\n",
      "0             Fight Club   6300000000  10085375300      139      29148   \n",
      "1              Gladiator  10300000000  46536117600      155      18270   \n",
      "2  A History of Violence   3200000000   6074082700       95       3167   \n",
      "\n",
      "  vote_average  \n",
      "0         bien  \n",
      "1         bien  \n",
      "2        moyen  \n"
     ]
    }
   ],
   "source": [
    "# Supprime \"évaluations\" et les virgules de la colonne 'vote_count'\n",
    "df_scrapping_copy['vote_count'] = df_scrapping_copy['vote_count'].str.replace(' évaluations', '')\n",
    "df_scrapping_copy['vote_count'] = df_scrapping_copy['vote_count'].str.replace(',', '')\n",
    "print(df_scrapping_copy)"
   ]
  },
  {
   "cell_type": "code",
   "execution_count": null,
   "metadata": {},
   "outputs": [
    {
     "name": "stdout",
     "output_type": "stream",
     "text": [
      "          original_title       budget      revenue  runtime vote_count  \\\n",
      "0             Fight Club   6300000000  10085375300      139      29148   \n",
      "1              Gladiator  10300000000  46536117600      155      18270   \n",
      "2  A History of Violence   3200000000   6074082700       95       3167   \n",
      "\n",
      "  evaluation  \n",
      "0       bien  \n",
      "1       bien  \n",
      "2      moyen  \n"
     ]
    }
   ],
   "source": [
    "df_scrapping_copy.rename(columns={'vote_average': 'evaluation'}, inplace=True)\n",
    "\n",
    "print(df_scrapping_copy)"
   ]
  },
  {
   "cell_type": "markdown",
   "metadata": {},
   "source": [
    "**Fusion des 5 dataframe différents pour en faire un seul**"
   ]
  },
  {
   "cell_type": "code",
   "execution_count": null,
   "metadata": {},
   "outputs": [
    {
     "name": "stdout",
     "output_type": "stream",
     "text": [
      "                                original_title     budget     revenue runtime  \\\n",
      "0                                       Avatar  237000000  2787965087     162   \n",
      "1     Pirates of the Caribbean: At World's End  300000000   961000000     169   \n",
      "2                                      Spectre  245000000   880674609     148   \n",
      "3                        The Dark Knight Rises  250000000  1084939099     165   \n",
      "4                                  John Carter  260000000   284139100     132   \n",
      "...                                        ...        ...         ...     ...   \n",
      "4784                               El Mariachi     220000     2040920      81   \n",
      "4785                                 Newlyweds       9000           0      85   \n",
      "4786                 Signed, Sealed, Delivered          0           0     120   \n",
      "4787                          Shanghai Calling          0           0      98   \n",
      "4788                         My Date with Drew          0           0      90   \n",
      "\n",
      "     vote_count evaluation  \n",
      "0         11800      moyen  \n",
      "1          4500      moyen  \n",
      "2          4466      moyen  \n",
      "3          9106       bien  \n",
      "4          2124      moyen  \n",
      "...         ...        ...  \n",
      "4784        238      moyen  \n",
      "4785          5      moyen  \n",
      "4786          6      moyen  \n",
      "4787          7      moyen  \n",
      "4788         16      moyen  \n",
      "\n",
      "[4789 rows x 6 columns]\n"
     ]
    }
   ],
   "source": [
    "# Combinaison verticale (concaténation des DataFrames)\n",
    "df_combined = pd.concat([df_mysql, df_mongo, df_api_copy, df_scrapping_copy, df_csv_copy], ignore_index=True)\n",
    "\n",
    "print(df_combined)\n"
   ]
  },
  {
   "cell_type": "code",
   "execution_count": 64,
   "metadata": {},
   "outputs": [],
   "source": [
    "df_combined.to_csv('combined_data.csv', index=False, encoding='utf-8')"
   ]
  }
 ],
 "metadata": {
  "kernelspec": {
   "display_name": ".venv",
   "language": "python",
   "name": "python3"
  },
  "language_info": {
   "codemirror_mode": {
    "name": "ipython",
    "version": 3
   },
   "file_extension": ".py",
   "mimetype": "text/x-python",
   "name": "python",
   "nbconvert_exporter": "python",
   "pygments_lexer": "ipython3",
   "version": "3.10.8"
  }
 },
 "nbformat": 4,
 "nbformat_minor": 2
}
